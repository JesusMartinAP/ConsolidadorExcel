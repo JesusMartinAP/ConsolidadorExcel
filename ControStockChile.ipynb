{
  "nbformat": 4,
  "nbformat_minor": 0,
  "metadata": {
    "colab": {
      "provenance": [],
      "collapsed_sections": [
        "vQmXOV5yGKdt"
      ],
      "include_colab_link": true
    },
    "kernelspec": {
      "name": "python3",
      "display_name": "Python 3"
    },
    "language_info": {
      "name": "python"
    }
  },
  "cells": [
    {
      "cell_type": "markdown",
      "metadata": {
        "id": "view-in-github",
        "colab_type": "text"
      },
      "source": [
        "<a href=\"https://colab.research.google.com/github/JesusMartinAP/ConsolidadorExcel/blob/main/ControStockChile.ipynb\" target=\"_parent\"><img src=\"https://colab.research.google.com/assets/colab-badge.svg\" alt=\"Open In Colab\"/></a>"
      ]
    },
    {
      "cell_type": "markdown",
      "source": [
        "**Librerias para instalar**"
      ],
      "metadata": {
        "id": "1e4pCczsCgIB"
      }
    },
    {
      "cell_type": "code",
      "source": [
        "!pip install playwright openpyxl\n",
        "!playwright install\n"
      ],
      "metadata": {
        "colab": {
          "base_uri": "https://localhost:8080/"
        },
        "id": "yV_4QSFEB9Op",
        "outputId": "e734e1d1-59ea-4697-e979-832abc90911b"
      },
      "execution_count": 1,
      "outputs": [
        {
          "output_type": "stream",
          "name": "stdout",
          "text": [
            "Collecting playwright\n",
            "  Downloading playwright-1.45.0-py3-none-manylinux1_x86_64.whl (37.9 MB)\n",
            "\u001b[2K     \u001b[90m━━━━━━━━━━━━━━━━━━━━━━━━━━━━━━━━━━━━━━━━\u001b[0m \u001b[32m37.9/37.9 MB\u001b[0m \u001b[31m9.3 MB/s\u001b[0m eta \u001b[36m0:00:00\u001b[0m\n",
            "\u001b[?25hRequirement already satisfied: openpyxl in /usr/local/lib/python3.10/dist-packages (3.1.5)\n",
            "Requirement already satisfied: greenlet==3.0.3 in /usr/local/lib/python3.10/dist-packages (from playwright) (3.0.3)\n",
            "Collecting pyee==11.1.0 (from playwright)\n",
            "  Downloading pyee-11.1.0-py3-none-any.whl (15 kB)\n",
            "Requirement already satisfied: typing-extensions in /usr/local/lib/python3.10/dist-packages (from pyee==11.1.0->playwright) (4.12.2)\n",
            "Requirement already satisfied: et-xmlfile in /usr/local/lib/python3.10/dist-packages (from openpyxl) (1.1.0)\n",
            "Installing collected packages: pyee, playwright\n",
            "Successfully installed playwright-1.45.0 pyee-11.1.0\n",
            "Downloading Chromium 127.0.6533.17 (playwright build v1124)\u001b[2m from https://playwright.azureedge.net/builds/chromium/1124/chromium-linux.zip\u001b[22m\n",
            "\u001b[1G161.3 MiB [] 0% 0.0s\u001b[0K\u001b[1G161.3 MiB [] 0% 33.2s\u001b[0K\u001b[1G161.3 MiB [] 0% 23.6s\u001b[0K\u001b[1G161.3 MiB [] 0% 16.5s\u001b[0K\u001b[1G161.3 MiB [] 0% 11.7s\u001b[0K\u001b[1G161.3 MiB [] 0% 7.9s\u001b[0K\u001b[1G161.3 MiB [] 1% 6.3s\u001b[0K\u001b[1G161.3 MiB [] 2% 5.5s\u001b[0K\u001b[1G161.3 MiB [] 2% 5.2s\u001b[0K\u001b[1G161.3 MiB [] 2% 5.3s\u001b[0K\u001b[1G161.3 MiB [] 3% 5.3s\u001b[0K\u001b[1G161.3 MiB [] 3% 4.8s\u001b[0K\u001b[1G161.3 MiB [] 4% 4.6s\u001b[0K\u001b[1G161.3 MiB [] 4% 4.4s\u001b[0K\u001b[1G161.3 MiB [] 5% 4.4s\u001b[0K\u001b[1G161.3 MiB [] 5% 4.3s\u001b[0K\u001b[1G161.3 MiB [] 6% 4.2s\u001b[0K\u001b[1G161.3 MiB [] 6% 4.1s\u001b[0K\u001b[1G161.3 MiB [] 7% 4.1s\u001b[0K\u001b[1G161.3 MiB [] 8% 3.9s\u001b[0K\u001b[1G161.3 MiB [] 9% 3.8s\u001b[0K\u001b[1G161.3 MiB [] 9% 3.7s\u001b[0K\u001b[1G161.3 MiB [] 10% 3.7s\u001b[0K\u001b[1G161.3 MiB [] 10% 3.6s\u001b[0K\u001b[1G161.3 MiB [] 11% 3.5s\u001b[0K\u001b[1G161.3 MiB [] 12% 3.5s\u001b[0K\u001b[1G161.3 MiB [] 12% 3.4s\u001b[0K\u001b[1G161.3 MiB [] 13% 3.5s\u001b[0K\u001b[1G161.3 MiB [] 14% 3.4s\u001b[0K\u001b[1G161.3 MiB [] 14% 3.5s\u001b[0K\u001b[1G161.3 MiB [] 14% 3.4s\u001b[0K\u001b[1G161.3 MiB [] 15% 3.4s\u001b[0K\u001b[1G161.3 MiB [] 15% 3.3s\u001b[0K\u001b[1G161.3 MiB [] 16% 3.3s\u001b[0K\u001b[1G161.3 MiB [] 17% 3.2s\u001b[0K\u001b[1G161.3 MiB [] 18% 3.1s\u001b[0K\u001b[1G161.3 MiB [] 19% 3.0s\u001b[0K\u001b[1G161.3 MiB [] 20% 2.9s\u001b[0K\u001b[1G161.3 MiB [] 20% 2.8s\u001b[0K\u001b[1G161.3 MiB [] 21% 2.7s\u001b[0K\u001b[1G161.3 MiB [] 22% 2.6s\u001b[0K\u001b[1G161.3 MiB [] 23% 2.6s\u001b[0K\u001b[1G161.3 MiB [] 24% 2.5s\u001b[0K\u001b[1G161.3 MiB [] 25% 2.5s\u001b[0K\u001b[1G161.3 MiB [] 26% 2.4s\u001b[0K\u001b[1G161.3 MiB [] 27% 2.4s\u001b[0K\u001b[1G161.3 MiB [] 28% 2.3s\u001b[0K\u001b[1G161.3 MiB [] 29% 2.3s\u001b[0K\u001b[1G161.3 MiB [] 30% 2.3s\u001b[0K\u001b[1G161.3 MiB [] 31% 2.3s\u001b[0K\u001b[1G161.3 MiB [] 32% 2.2s\u001b[0K\u001b[1G161.3 MiB [] 33% 2.2s\u001b[0K\u001b[1G161.3 MiB [] 34% 2.1s\u001b[0K\u001b[1G161.3 MiB [] 35% 2.1s\u001b[0K\u001b[1G161.3 MiB [] 36% 2.0s\u001b[0K\u001b[1G161.3 MiB [] 37% 2.0s\u001b[0K\u001b[1G161.3 MiB [] 38% 2.0s\u001b[0K\u001b[1G161.3 MiB [] 39% 2.0s\u001b[0K\u001b[1G161.3 MiB [] 40% 2.0s\u001b[0K\u001b[1G161.3 MiB [] 40% 1.9s\u001b[0K\u001b[1G161.3 MiB [] 40% 2.0s\u001b[0K\u001b[1G161.3 MiB [] 41% 2.0s\u001b[0K\u001b[1G161.3 MiB [] 41% 1.9s\u001b[0K\u001b[1G161.3 MiB [] 41% 2.0s\u001b[0K\u001b[1G161.3 MiB [] 42% 2.0s\u001b[0K\u001b[1G161.3 MiB [] 42% 1.9s\u001b[0K\u001b[1G161.3 MiB [] 42% 2.0s\u001b[0K\u001b[1G161.3 MiB [] 43% 2.0s\u001b[0K\u001b[1G161.3 MiB [] 43% 1.9s\u001b[0K\u001b[1G161.3 MiB [] 44% 1.9s\u001b[0K\u001b[1G161.3 MiB [] 45% 1.9s\u001b[0K\u001b[1G161.3 MiB [] 46% 1.8s\u001b[0K\u001b[1G161.3 MiB [] 47% 1.8s\u001b[0K\u001b[1G161.3 MiB [] 48% 1.8s\u001b[0K\u001b[1G161.3 MiB [] 48% 1.7s\u001b[0K\u001b[1G161.3 MiB [] 49% 1.7s\u001b[0K\u001b[1G161.3 MiB [] 50% 1.7s\u001b[0K\u001b[1G161.3 MiB [] 51% 1.7s\u001b[0K\u001b[1G161.3 MiB [] 51% 1.6s\u001b[0K\u001b[1G161.3 MiB [] 52% 1.6s\u001b[0K\u001b[1G161.3 MiB [] 53% 1.6s\u001b[0K\u001b[1G161.3 MiB [] 54% 1.5s\u001b[0K\u001b[1G161.3 MiB [] 55% 1.5s\u001b[0K\u001b[1G161.3 MiB [] 56% 1.5s\u001b[0K\u001b[1G161.3 MiB [] 57% 1.4s\u001b[0K\u001b[1G161.3 MiB [] 58% 1.4s\u001b[0K\u001b[1G161.3 MiB [] 59% 1.3s\u001b[0K\u001b[1G161.3 MiB [] 60% 1.3s\u001b[0K\u001b[1G161.3 MiB [] 61% 1.3s\u001b[0K\u001b[1G161.3 MiB [] 62% 1.2s\u001b[0K\u001b[1G161.3 MiB [] 63% 1.2s\u001b[0K\u001b[1G161.3 MiB [] 64% 1.2s\u001b[0K\u001b[1G161.3 MiB [] 64% 1.1s\u001b[0K\u001b[1G161.3 MiB [] 65% 1.1s\u001b[0K\u001b[1G161.3 MiB [] 66% 1.1s\u001b[0K\u001b[1G161.3 MiB [] 67% 1.0s\u001b[0K\u001b[1G161.3 MiB [] 68% 1.0s\u001b[0K\u001b[1G161.3 MiB [] 69% 1.0s\u001b[0K\u001b[1G161.3 MiB [] 70% 0.9s\u001b[0K\u001b[1G161.3 MiB [] 71% 0.9s\u001b[0K\u001b[1G161.3 MiB [] 72% 0.8s\u001b[0K\u001b[1G161.3 MiB [] 73% 0.8s\u001b[0K\u001b[1G161.3 MiB [] 74% 0.8s\u001b[0K\u001b[1G161.3 MiB [] 75% 0.7s\u001b[0K\u001b[1G161.3 MiB [] 76% 0.7s\u001b[0K\u001b[1G161.3 MiB [] 77% 0.7s\u001b[0K\u001b[1G161.3 MiB [] 78% 0.7s\u001b[0K\u001b[1G161.3 MiB [] 78% 0.6s\u001b[0K\u001b[1G161.3 MiB [] 79% 0.6s\u001b[0K\u001b[1G161.3 MiB [] 80% 0.6s\u001b[0K\u001b[1G161.3 MiB [] 81% 0.6s\u001b[0K\u001b[1G161.3 MiB [] 82% 0.5s\u001b[0K\u001b[1G161.3 MiB [] 83% 0.5s\u001b[0K\u001b[1G161.3 MiB [] 84% 0.5s\u001b[0K\u001b[1G161.3 MiB [] 85% 0.5s\u001b[0K\u001b[1G161.3 MiB [] 85% 0.4s\u001b[0K\u001b[1G161.3 MiB [] 86% 0.4s\u001b[0K\u001b[1G161.3 MiB [] 87% 0.4s\u001b[0K\u001b[1G161.3 MiB [] 88% 0.4s\u001b[0K\u001b[1G161.3 MiB [] 88% 0.3s\u001b[0K\u001b[1G161.3 MiB [] 89% 0.3s\u001b[0K\u001b[1G161.3 MiB [] 90% 0.3s\u001b[0K\u001b[1G161.3 MiB [] 91% 0.3s\u001b[0K\u001b[1G161.3 MiB [] 91% 0.2s\u001b[0K\u001b[1G161.3 MiB [] 92% 0.2s\u001b[0K\u001b[1G161.3 MiB [] 93% 0.2s\u001b[0K\u001b[1G161.3 MiB [] 94% 0.2s\u001b[0K\u001b[1G161.3 MiB [] 95% 0.1s\u001b[0K\u001b[1G161.3 MiB [] 96% 0.1s\u001b[0K\u001b[1G161.3 MiB [] 97% 0.1s\u001b[0K\u001b[1G161.3 MiB [] 98% 0.0s\u001b[0K\u001b[1G161.3 MiB [] 99% 0.0s\u001b[0K\u001b[1G161.3 MiB [] 100% 0.0s\u001b[0K\n",
            "Chromium 127.0.6533.17 (playwright build v1124) downloaded to /root/.cache/ms-playwright/chromium-1124\n",
            "Downloading FFMPEG playwright build v1009\u001b[2m from https://playwright.azureedge.net/builds/ffmpeg/1009/ffmpeg-linux.zip\u001b[22m\n",
            "\u001b[1G2.6 MiB [] 0% 0.0s\u001b[0K\u001b[1G2.6 MiB [] 3% 0.5s\u001b[0K\u001b[1G2.6 MiB [] 9% 0.3s\u001b[0K\u001b[1G2.6 MiB [] 15% 0.3s\u001b[0K\u001b[1G2.6 MiB [] 21% 0.3s\u001b[0K\u001b[1G2.6 MiB [] 26% 0.2s\u001b[0K\u001b[1G2.6 MiB [] 36% 0.2s\u001b[0K\u001b[1G2.6 MiB [] 57% 0.1s\u001b[0K\u001b[1G2.6 MiB [] 80% 0.0s\u001b[0K\u001b[1G2.6 MiB [] 100% 0.0s\u001b[0K\n",
            "FFMPEG playwright build v1009 downloaded to /root/.cache/ms-playwright/ffmpeg-1009\n",
            "Downloading Firefox 127.0 (playwright build v1454)\u001b[2m from https://playwright.azureedge.net/builds/firefox/1454/firefox-ubuntu-22.04.zip\u001b[22m\n",
            "\u001b[1G86.6 MiB [] 0% 0.0s\u001b[0K\u001b[1G86.6 MiB [] 0% 20.1s\u001b[0K\u001b[1G86.6 MiB [] 0% 13.5s\u001b[0K\u001b[1G86.6 MiB [] 0% 9.5s\u001b[0K\u001b[1G86.6 MiB [] 0% 6.7s\u001b[0K\u001b[1G86.6 MiB [] 1% 5.8s\u001b[0K\u001b[1G86.6 MiB [] 1% 5.1s\u001b[0K\u001b[1G86.6 MiB [] 2% 4.7s\u001b[0K\u001b[1G86.6 MiB [] 3% 4.2s\u001b[0K\u001b[1G86.6 MiB [] 3% 3.8s\u001b[0K\u001b[1G86.6 MiB [] 4% 3.4s\u001b[0K\u001b[1G86.6 MiB [] 4% 3.5s\u001b[0K\u001b[1G86.6 MiB [] 5% 3.6s\u001b[0K\u001b[1G86.6 MiB [] 5% 3.5s\u001b[0K\u001b[1G86.6 MiB [] 6% 3.4s\u001b[0K\u001b[1G86.6 MiB [] 7% 3.3s\u001b[0K\u001b[1G86.6 MiB [] 7% 3.4s\u001b[0K\u001b[1G86.6 MiB [] 7% 3.5s\u001b[0K\u001b[1G86.6 MiB [] 8% 3.6s\u001b[0K\u001b[1G86.6 MiB [] 9% 3.3s\u001b[0K\u001b[1G86.6 MiB [] 10% 3.0s\u001b[0K\u001b[1G86.6 MiB [] 11% 3.0s\u001b[0K\u001b[1G86.6 MiB [] 12% 2.9s\u001b[0K\u001b[1G86.6 MiB [] 13% 2.8s\u001b[0K\u001b[1G86.6 MiB [] 14% 2.7s\u001b[0K\u001b[1G86.6 MiB [] 14% 2.6s\u001b[0K\u001b[1G86.6 MiB [] 15% 2.5s\u001b[0K\u001b[1G86.6 MiB [] 16% 2.5s\u001b[0K\u001b[1G86.6 MiB [] 17% 2.5s\u001b[0K\u001b[1G86.6 MiB [] 18% 2.4s\u001b[0K\u001b[1G86.6 MiB [] 18% 2.3s\u001b[0K\u001b[1G86.6 MiB [] 19% 2.3s\u001b[0K\u001b[1G86.6 MiB [] 20% 2.2s\u001b[0K\u001b[1G86.6 MiB [] 21% 2.2s\u001b[0K\u001b[1G86.6 MiB [] 22% 2.1s\u001b[0K\u001b[1G86.6 MiB [] 23% 2.1s\u001b[0K\u001b[1G86.6 MiB [] 24% 2.0s\u001b[0K\u001b[1G86.6 MiB [] 25% 2.0s\u001b[0K\u001b[1G86.6 MiB [] 26% 1.9s\u001b[0K\u001b[1G86.6 MiB [] 27% 1.9s\u001b[0K\u001b[1G86.6 MiB [] 28% 1.8s\u001b[0K\u001b[1G86.6 MiB [] 29% 1.8s\u001b[0K\u001b[1G86.6 MiB [] 30% 1.8s\u001b[0K\u001b[1G86.6 MiB [] 31% 1.7s\u001b[0K\u001b[1G86.6 MiB [] 32% 1.7s\u001b[0K\u001b[1G86.6 MiB [] 33% 1.6s\u001b[0K\u001b[1G86.6 MiB [] 34% 1.6s\u001b[0K\u001b[1G86.6 MiB [] 35% 1.5s\u001b[0K\u001b[1G86.6 MiB [] 37% 1.5s\u001b[0K\u001b[1G86.6 MiB [] 38% 1.5s\u001b[0K\u001b[1G86.6 MiB [] 39% 1.4s\u001b[0K\u001b[1G86.6 MiB [] 40% 1.4s\u001b[0K\u001b[1G86.6 MiB [] 41% 1.4s\u001b[0K\u001b[1G86.6 MiB [] 42% 1.4s\u001b[0K\u001b[1G86.6 MiB [] 43% 1.3s\u001b[0K\u001b[1G86.6 MiB [] 44% 1.3s\u001b[0K\u001b[1G86.6 MiB [] 45% 1.3s\u001b[0K\u001b[1G86.6 MiB [] 46% 1.2s\u001b[0K\u001b[1G86.6 MiB [] 47% 1.2s\u001b[0K\u001b[1G86.6 MiB [] 48% 1.2s\u001b[0K\u001b[1G86.6 MiB [] 49% 1.2s\u001b[0K\u001b[1G86.6 MiB [] 50% 1.1s\u001b[0K\u001b[1G86.6 MiB [] 51% 1.1s\u001b[0K\u001b[1G86.6 MiB [] 52% 1.1s\u001b[0K\u001b[1G86.6 MiB [] 53% 1.1s\u001b[0K\u001b[1G86.6 MiB [] 54% 1.0s\u001b[0K\u001b[1G86.6 MiB [] 55% 1.0s\u001b[0K\u001b[1G86.6 MiB [] 56% 1.0s\u001b[0K\u001b[1G86.6 MiB [] 57% 1.0s\u001b[0K\u001b[1G86.6 MiB [] 58% 0.9s\u001b[0K\u001b[1G86.6 MiB [] 59% 0.9s\u001b[0K\u001b[1G86.6 MiB [] 60% 0.9s\u001b[0K\u001b[1G86.6 MiB [] 61% 0.9s\u001b[0K\u001b[1G86.6 MiB [] 62% 0.8s\u001b[0K\u001b[1G86.6 MiB [] 63% 0.8s\u001b[0K\u001b[1G86.6 MiB [] 64% 0.8s\u001b[0K\u001b[1G86.6 MiB [] 65% 0.7s\u001b[0K\u001b[1G86.6 MiB [] 66% 0.7s\u001b[0K\u001b[1G86.6 MiB [] 67% 0.7s\u001b[0K\u001b[1G86.6 MiB [] 68% 0.7s\u001b[0K\u001b[1G86.6 MiB [] 69% 0.7s\u001b[0K\u001b[1G86.6 MiB [] 70% 0.6s\u001b[0K\u001b[1G86.6 MiB [] 71% 0.6s\u001b[0K\u001b[1G86.6 MiB [] 72% 0.6s\u001b[0K\u001b[1G86.6 MiB [] 73% 0.6s\u001b[0K\u001b[1G86.6 MiB [] 74% 0.6s\u001b[0K\u001b[1G86.6 MiB [] 75% 0.5s\u001b[0K\u001b[1G86.6 MiB [] 76% 0.5s\u001b[0K\u001b[1G86.6 MiB [] 78% 0.5s\u001b[0K\u001b[1G86.6 MiB [] 79% 0.4s\u001b[0K\u001b[1G86.6 MiB [] 81% 0.4s\u001b[0K\u001b[1G86.6 MiB [] 82% 0.4s\u001b[0K\u001b[1G86.6 MiB [] 83% 0.3s\u001b[0K\u001b[1G86.6 MiB [] 85% 0.3s\u001b[0K\u001b[1G86.6 MiB [] 87% 0.3s\u001b[0K\u001b[1G86.6 MiB [] 88% 0.2s\u001b[0K\u001b[1G86.6 MiB [] 89% 0.2s\u001b[0K\u001b[1G86.6 MiB [] 90% 0.2s\u001b[0K\u001b[1G86.6 MiB [] 91% 0.2s\u001b[0K\u001b[1G86.6 MiB [] 92% 0.2s\u001b[0K\u001b[1G86.6 MiB [] 93% 0.1s\u001b[0K\u001b[1G86.6 MiB [] 94% 0.1s\u001b[0K\u001b[1G86.6 MiB [] 95% 0.1s\u001b[0K\u001b[1G86.6 MiB [] 97% 0.1s\u001b[0K\u001b[1G86.6 MiB [] 98% 0.0s\u001b[0K\u001b[1G86.6 MiB [] 99% 0.0s\u001b[0K\u001b[1G86.6 MiB [] 100% 0.0s\u001b[0K\n",
            "Firefox 127.0 (playwright build v1454) downloaded to /root/.cache/ms-playwright/firefox-1454\n",
            "Downloading Webkit 17.4 (playwright build v2035)\u001b[2m from https://playwright.azureedge.net/builds/webkit/2035/webkit-ubuntu-22.04.zip\u001b[22m\n",
            "\u001b[1G86.1 MiB [] 0% 0.0s\u001b[0K\u001b[1G86.1 MiB [] 0% 19.9s\u001b[0K\u001b[1G86.1 MiB [] 0% 13.6s\u001b[0K\u001b[1G86.1 MiB [] 0% 7.3s\u001b[0K\u001b[1G86.1 MiB [] 1% 6.4s\u001b[0K\u001b[1G86.1 MiB [] 1% 5.5s\u001b[0K\u001b[1G86.1 MiB [] 2% 4.9s\u001b[0K\u001b[1G86.1 MiB [] 2% 4.8s\u001b[0K\u001b[1G86.1 MiB [] 2% 4.7s\u001b[0K\u001b[1G86.1 MiB [] 3% 4.5s\u001b[0K\u001b[1G86.1 MiB [] 3% 4.2s\u001b[0K\u001b[1G86.1 MiB [] 4% 4.1s\u001b[0K\u001b[1G86.1 MiB [] 4% 4.0s\u001b[0K\u001b[1G86.1 MiB [] 4% 4.1s\u001b[0K\u001b[1G86.1 MiB [] 5% 4.2s\u001b[0K\u001b[1G86.1 MiB [] 5% 4.0s\u001b[0K\u001b[1G86.1 MiB [] 6% 3.8s\u001b[0K\u001b[1G86.1 MiB [] 7% 3.5s\u001b[0K\u001b[1G86.1 MiB [] 8% 3.4s\u001b[0K\u001b[1G86.1 MiB [] 8% 3.3s\u001b[0K\u001b[1G86.1 MiB [] 9% 3.1s\u001b[0K\u001b[1G86.1 MiB [] 10% 3.0s\u001b[0K\u001b[1G86.1 MiB [] 10% 3.2s\u001b[0K\u001b[1G86.1 MiB [] 11% 3.1s\u001b[0K\u001b[1G86.1 MiB [] 11% 3.2s\u001b[0K\u001b[1G86.1 MiB [] 12% 3.0s\u001b[0K\u001b[1G86.1 MiB [] 13% 2.9s\u001b[0K\u001b[1G86.1 MiB [] 14% 2.8s\u001b[0K\u001b[1G86.1 MiB [] 15% 2.7s\u001b[0K\u001b[1G86.1 MiB [] 16% 2.7s\u001b[0K\u001b[1G86.1 MiB [] 16% 2.6s\u001b[0K\u001b[1G86.1 MiB [] 17% 2.7s\u001b[0K\u001b[1G86.1 MiB [] 17% 2.6s\u001b[0K\u001b[1G86.1 MiB [] 18% 2.6s\u001b[0K\u001b[1G86.1 MiB [] 19% 2.6s\u001b[0K\u001b[1G86.1 MiB [] 19% 2.5s\u001b[0K\u001b[1G86.1 MiB [] 20% 2.5s\u001b[0K\u001b[1G86.1 MiB [] 21% 2.4s\u001b[0K\u001b[1G86.1 MiB [] 22% 2.4s\u001b[0K\u001b[1G86.1 MiB [] 23% 2.3s\u001b[0K\u001b[1G86.1 MiB [] 24% 2.3s\u001b[0K\u001b[1G86.1 MiB [] 24% 2.4s\u001b[0K\u001b[1G86.1 MiB [] 25% 2.4s\u001b[0K\u001b[1G86.1 MiB [] 26% 2.4s\u001b[0K\u001b[1G86.1 MiB [] 26% 2.5s\u001b[0K\u001b[1G86.1 MiB [] 27% 2.5s\u001b[0K\u001b[1G86.1 MiB [] 27% 2.4s\u001b[0K\u001b[1G86.1 MiB [] 28% 2.4s\u001b[0K\u001b[1G86.1 MiB [] 29% 2.4s\u001b[0K\u001b[1G86.1 MiB [] 30% 2.4s\u001b[0K\u001b[1G86.1 MiB [] 30% 2.3s\u001b[0K\u001b[1G86.1 MiB [] 31% 2.3s\u001b[0K\u001b[1G86.1 MiB [] 32% 2.3s\u001b[0K\u001b[1G86.1 MiB [] 33% 2.3s\u001b[0K\u001b[1G86.1 MiB [] 33% 2.2s\u001b[0K\u001b[1G86.1 MiB [] 34% 2.2s\u001b[0K\u001b[1G86.1 MiB [] 35% 2.2s\u001b[0K\u001b[1G86.1 MiB [] 36% 2.1s\u001b[0K\u001b[1G86.1 MiB [] 37% 2.1s\u001b[0K\u001b[1G86.1 MiB [] 37% 2.0s\u001b[0K\u001b[1G86.1 MiB [] 38% 2.0s\u001b[0K\u001b[1G86.1 MiB [] 39% 1.9s\u001b[0K\u001b[1G86.1 MiB [] 40% 1.9s\u001b[0K\u001b[1G86.1 MiB [] 42% 1.8s\u001b[0K\u001b[1G86.1 MiB [] 44% 1.7s\u001b[0K\u001b[1G86.1 MiB [] 45% 1.6s\u001b[0K\u001b[1G86.1 MiB [] 46% 1.6s\u001b[0K\u001b[1G86.1 MiB [] 47% 1.6s\u001b[0K\u001b[1G86.1 MiB [] 48% 1.6s\u001b[0K\u001b[1G86.1 MiB [] 48% 1.5s\u001b[0K\u001b[1G86.1 MiB [] 49% 1.5s\u001b[0K\u001b[1G86.1 MiB [] 50% 1.5s\u001b[0K\u001b[1G86.1 MiB [] 51% 1.4s\u001b[0K\u001b[1G86.1 MiB [] 53% 1.4s\u001b[0K\u001b[1G86.1 MiB [] 54% 1.3s\u001b[0K\u001b[1G86.1 MiB [] 55% 1.3s\u001b[0K\u001b[1G86.1 MiB [] 56% 1.2s\u001b[0K\u001b[1G86.1 MiB [] 57% 1.2s\u001b[0K\u001b[1G86.1 MiB [] 58% 1.2s\u001b[0K\u001b[1G86.1 MiB [] 59% 1.1s\u001b[0K\u001b[1G86.1 MiB [] 60% 1.1s\u001b[0K\u001b[1G86.1 MiB [] 61% 1.1s\u001b[0K\u001b[1G86.1 MiB [] 62% 1.0s\u001b[0K\u001b[1G86.1 MiB [] 63% 1.0s\u001b[0K\u001b[1G86.1 MiB [] 64% 1.0s\u001b[0K\u001b[1G86.1 MiB [] 65% 0.9s\u001b[0K\u001b[1G86.1 MiB [] 66% 0.9s\u001b[0K\u001b[1G86.1 MiB [] 67% 0.9s\u001b[0K\u001b[1G86.1 MiB [] 68% 0.9s\u001b[0K\u001b[1G86.1 MiB [] 69% 0.8s\u001b[0K\u001b[1G86.1 MiB [] 70% 0.8s\u001b[0K\u001b[1G86.1 MiB [] 71% 0.7s\u001b[0K\u001b[1G86.1 MiB [] 72% 0.7s\u001b[0K\u001b[1G86.1 MiB [] 73% 0.7s\u001b[0K\u001b[1G86.1 MiB [] 74% 0.7s\u001b[0K\u001b[1G86.1 MiB [] 75% 0.6s\u001b[0K\u001b[1G86.1 MiB [] 76% 0.6s\u001b[0K\u001b[1G86.1 MiB [] 77% 0.6s\u001b[0K\u001b[1G86.1 MiB [] 80% 0.5s\u001b[0K\u001b[1G86.1 MiB [] 82% 0.4s\u001b[0K\u001b[1G86.1 MiB [] 83% 0.4s\u001b[0K\u001b[1G86.1 MiB [] 85% 0.4s\u001b[0K\u001b[1G86.1 MiB [] 87% 0.3s\u001b[0K\u001b[1G86.1 MiB [] 88% 0.3s\u001b[0K\u001b[1G86.1 MiB [] 89% 0.2s\u001b[0K\u001b[1G86.1 MiB [] 90% 0.2s\u001b[0K\u001b[1G86.1 MiB [] 91% 0.2s\u001b[0K\u001b[1G86.1 MiB [] 92% 0.2s\u001b[0K\u001b[1G86.1 MiB [] 93% 0.2s\u001b[0K\u001b[1G86.1 MiB [] 94% 0.1s\u001b[0K\u001b[1G86.1 MiB [] 96% 0.1s\u001b[0K\u001b[1G86.1 MiB [] 97% 0.1s\u001b[0K\u001b[1G86.1 MiB [] 98% 0.0s\u001b[0K\u001b[1G86.1 MiB [] 100% 0.0s\u001b[0K\n",
            "Webkit 17.4 (playwright build v2035) downloaded to /root/.cache/ms-playwright/webkit-2035\n",
            "Playwright Host validation warning: \n",
            "╔══════════════════════════════════════════════════════╗\n",
            "║ Host system is missing dependencies to run browsers. ║\n",
            "║ Missing libraries:                                   ║\n",
            "║     libwoff2dec.so.1.0.2                             ║\n",
            "║     libgstgl-1.0.so.0                                ║\n",
            "║     libgstcodecparsers-1.0.so.0                      ║\n",
            "║     libharfbuzz-icu.so.0                             ║\n",
            "║     libenchant-2.so.2                                ║\n",
            "║     libsecret-1.so.0                                 ║\n",
            "║     libhyphen.so.0                                   ║\n",
            "║     libmanette-0.2.so.0                              ║\n",
            "╚══════════════════════════════════════════════════════╝\n",
            "    at validateDependenciesLinux (/usr/local/lib/python3.10/dist-packages/playwright/driver/package/lib/server/registry/dependencies.js:216:9)\n",
            "    at async Registry._validateHostRequirements (/usr/local/lib/python3.10/dist-packages/playwright/driver/package/lib/server/registry/index.js:575:43)\n",
            "    at async Registry._validateHostRequirementsForExecutableIfNeeded (/usr/local/lib/python3.10/dist-packages/playwright/driver/package/lib/server/registry/index.js:673:7)\n",
            "    at async Registry.validateHostRequirementsForExecutablesIfNeeded (/usr/local/lib/python3.10/dist-packages/playwright/driver/package/lib/server/registry/index.js:662:43)\n",
            "    at async t.<anonymous> (/usr/local/lib/python3.10/dist-packages/playwright/driver/package/lib/cli/program.js:119:7)\n"
          ]
        }
      ]
    },
    {
      "cell_type": "markdown",
      "source": [
        "#Script Control de Stock CH"
      ],
      "metadata": {
        "id": "5tdoNuGYGAlC"
      }
    },
    {
      "cell_type": "code",
      "execution_count": 10,
      "metadata": {
        "id": "Py9axIjf954k",
        "colab": {
          "base_uri": "https://localhost:8080/",
          "height": 141
        },
        "outputId": "5640d164-1dc1-41da-b505-541bad2c9f4c"
      },
      "outputs": [
        {
          "output_type": "stream",
          "name": "stdout",
          "text": [
            "Procesando código 1/5 - Tiempo transcurrido: 0:00:21\n",
            "Procesando código 2/5 - Tiempo transcurrido: 0:00:24\n",
            "Procesando código 3/5 - Tiempo transcurrido: 0:00:25\n",
            "Procesando código 4/5 - Tiempo transcurrido: 0:00:26\n",
            "Procesando código 5/5 - Tiempo transcurrido: 0:00:26\n",
            "Archivo 'Control Stock Web 2024-07-09.xlsx' guardado con los estados, precios y cantidad de imágenes de los productos.\n"
          ]
        },
        {
          "output_type": "display_data",
          "data": {
            "text/plain": [
              "<IPython.core.display.Javascript object>"
            ],
            "application/javascript": [
              "\n",
              "    async function download(id, filename, size) {\n",
              "      if (!google.colab.kernel.accessAllowed) {\n",
              "        return;\n",
              "      }\n",
              "      const div = document.createElement('div');\n",
              "      const label = document.createElement('label');\n",
              "      label.textContent = `Downloading \"${filename}\": `;\n",
              "      div.appendChild(label);\n",
              "      const progress = document.createElement('progress');\n",
              "      progress.max = size;\n",
              "      div.appendChild(progress);\n",
              "      document.body.appendChild(div);\n",
              "\n",
              "      const buffers = [];\n",
              "      let downloaded = 0;\n",
              "\n",
              "      const channel = await google.colab.kernel.comms.open(id);\n",
              "      // Send a message to notify the kernel that we're ready.\n",
              "      channel.send({})\n",
              "\n",
              "      for await (const message of channel.messages) {\n",
              "        // Send a message to notify the kernel that we're ready.\n",
              "        channel.send({})\n",
              "        if (message.buffers) {\n",
              "          for (const buffer of message.buffers) {\n",
              "            buffers.push(buffer);\n",
              "            downloaded += buffer.byteLength;\n",
              "            progress.value = downloaded;\n",
              "          }\n",
              "        }\n",
              "      }\n",
              "      const blob = new Blob(buffers, {type: 'application/binary'});\n",
              "      const a = document.createElement('a');\n",
              "      a.href = window.URL.createObjectURL(blob);\n",
              "      a.download = filename;\n",
              "      div.appendChild(a);\n",
              "      a.click();\n",
              "      div.remove();\n",
              "    }\n",
              "  "
            ]
          },
          "metadata": {}
        },
        {
          "output_type": "display_data",
          "data": {
            "text/plain": [
              "<IPython.core.display.Javascript object>"
            ],
            "application/javascript": [
              "download(\"download_13fb9bff-29e8-4a41-a68f-eb57137dbba2\", \"Control Stock Web 2024-07-09.xlsx\", 5054)"
            ]
          },
          "metadata": {}
        }
      ],
      "source": [
        "import concurrent.futures\n",
        "from datetime import datetime\n",
        "from playwright.sync_api import sync_playwright\n",
        "from openpyxl import Workbook\n",
        "from threading import Lock\n",
        "\n",
        "# Variables globales\n",
        "proceso_en_ejecucion = False\n",
        "estado_codigos = []\n",
        "total_codigos = 0\n",
        "codigos_procesados = 0\n",
        "lock = Lock()  # Para controlar el acceso concurrente a las variables globales\n",
        "\n",
        "# Función para obtener el estado de un producto, su precio y la cantidad de imágenes usando Playwright\n",
        "def obtener_estado_y_precio(codigo_padre):\n",
        "    url_base = f'https://www.marathon.cl/{codigo_padre}.html'\n",
        "    with sync_playwright() as p:\n",
        "        browser = p.chromium.launch(headless=True)\n",
        "        page = browser.new_page()\n",
        "        try:\n",
        "            page.goto(url_base)\n",
        "            page.wait_for_selector(\"body\", timeout=5000)  # Esperar a que el cuerpo de la página se cargue\n",
        "\n",
        "            # Verificar si la página redirige al inicio (indicador: URL de redirección)\n",
        "            if page.url == \"https://www.marathon.cl/home/\":\n",
        "                return codigo_padre, \"Web no encontrada\", \"Precio no disponible\", \"Cantidad de imágenes no disponible\"\n",
        "\n",
        "            # Buscar los botones de talla y determinar si están seleccionados\n",
        "            botones_talla = page.query_selector_all(\"button.size-attribute.swatchable.selectable.swatch-square\")\n",
        "            estado = \"Agotado\"\n",
        "            for boton in botones_talla:\n",
        "                if \"selected-assistive-text\" in boton.inner_html():\n",
        "                    estado = \"Disponible\" if not boton.is_disabled() else \"Agotado\"\n",
        "                    break\n",
        "\n",
        "            # Extraer el precio\n",
        "            precio_element = page.query_selector('span.sales > span.value')\n",
        "            precio = precio_element.inner_text().strip() if precio_element else \"Precio no disponible\"\n",
        "\n",
        "            # Contar la cantidad de imágenes\n",
        "            imagenes = page.query_selector_all('img.gallery_img')\n",
        "            cantidad_imagenes = len(imagenes)\n",
        "\n",
        "            return codigo_padre, estado, precio, cantidad_imagenes\n",
        "        except Exception as e:\n",
        "            return codigo_padre, f\"Error: {e}\", \"Precio no disponible\", \"Cantidad de imágenes no disponible\"\n",
        "        finally:\n",
        "            browser.close()\n",
        "\n",
        "# Función para procesar los códigos y guardar en Excel\n",
        "def procesar_codigos(codigos):\n",
        "    global proceso_en_ejecucion, estado_codigos, total_codigos, codigos_procesados\n",
        "    total_codigos = len(codigos)\n",
        "    start_time = datetime.now()\n",
        "\n",
        "    def obtener_estado_concurrente(codigo_padre):\n",
        "        return obtener_estado_y_precio(codigo_padre)\n",
        "\n",
        "    with concurrent.futures.ThreadPoolExecutor(max_workers=50) as executor:  # Ajustar el número de trabajadores según sea necesario\n",
        "        futures = {executor.submit(obtener_estado_concurrente, codigo): codigo for codigo in codigos}\n",
        "        for future in concurrent.futures.as_completed(futures):\n",
        "            if not proceso_en_ejecucion:\n",
        "                break\n",
        "            codigo = futures[future]\n",
        "            try:\n",
        "                codigo_padre, estado, precio, cantidad_imagenes = future.result()\n",
        "            except Exception as exc:\n",
        "                codigo_padre = codigo  # Inicializar código_padre en caso de error\n",
        "                estado = f\"Error: {exc}\"\n",
        "                precio = \"Precio no disponible\"\n",
        "                cantidad_imagenes = \"Cantidad de imágenes no disponible\"\n",
        "            with lock:\n",
        "                estado_codigos.append((codigo_padre, estado, precio, cantidad_imagenes))\n",
        "                codigos_procesados += 1\n",
        "\n",
        "            # Actualizar información en la consola\n",
        "            elapsed_time = datetime.now() - start_time\n",
        "            tiempo_transcurrido = str(elapsed_time).split('.')[0]  # Formato HH:MM:SS\n",
        "            print(f\"Procesando código {codigos_procesados}/{total_codigos} - Tiempo transcurrido: {tiempo_transcurrido}\")\n",
        "\n",
        "    if proceso_en_ejecucion:\n",
        "        guardar_resultados()\n",
        "\n",
        "# Función para pausar el proceso\n",
        "def pausar_proceso():\n",
        "    global proceso_en_ejecucion\n",
        "    proceso_en_ejecucion = False\n",
        "    print(\"Proceso pausado. Puede continuar luego.\")\n",
        "\n",
        "# Función para detener el proceso\n",
        "def detener_proceso():\n",
        "    global proceso_en_ejecucion\n",
        "    proceso_en_ejecucion = False\n",
        "    guardar_resultados()\n",
        "    print(\"Proceso detenido.\")\n",
        "\n",
        "# Función para guardar los resultados en Excel\n",
        "def guardar_resultados():\n",
        "    global proceso_en_ejecucion\n",
        "    # Guardar en Excel\n",
        "    wb = Workbook()\n",
        "    ws = wb.active\n",
        "    ws.title = \"Control Stock Web\"\n",
        "    ws['A1'] = \"CODIGO\"\n",
        "    ws['B1'] = \"STATUS WEB\"\n",
        "    ws['C1'] = \"PRECIO\"\n",
        "    ws['D1'] = \"Cant. Img\"\n",
        "    for i, (codigo, estado, precio, cantidad_imagenes) in enumerate(estado_codigos, start=2):\n",
        "        ws[f'A{i}'] = codigo\n",
        "        ws[f'B{i}'] = estado\n",
        "        ws[f'C{i}'] = precio\n",
        "        ws[f'D{i}'] = cantidad_imagenes\n",
        "\n",
        "    # Guardar archivo\n",
        "    fecha_actual = datetime.now().strftime(\"%Y-%m-%d\")\n",
        "    nombre_archivo = f\"Control Stock Web {fecha_actual}.xlsx\"\n",
        "    wb.save(nombre_archivo)\n",
        "    print(f\"Archivo '{nombre_archivo}' guardado con los estados, precios y cantidad de imágenes de los productos.\")\n",
        "    # Descarga el archivo de Excel en Colab\n",
        "    from google.colab import files\n",
        "    files.download(nombre_archivo)\n",
        "\n",
        "# Función para iniciar el procesamiento\n",
        "def iniciar_procesamiento(codigos):\n",
        "    global proceso_en_ejecucion, codigos_procesados, estado_codigos\n",
        "    if not proceso_en_ejecucion:\n",
        "        proceso_en_ejecucion = True\n",
        "        codigos_procesados = 0\n",
        "        estado_codigos = []\n",
        "        procesar_codigos(codigos)\n",
        "\n",
        "# Leer los códigos del archivo de texto \"Articulo.txt\"\n",
        "def leer_codigos_desde_archivo(nombre_archivo):\n",
        "    with open(nombre_archivo, 'r') as archivo:\n",
        "        codigos = [linea.strip() for linea in archivo if linea.strip()]\n",
        "    return codigos\n",
        "\n",
        "# Leer los códigos desde \"Articulo.txt\"\n",
        "codigos = leer_codigos_desde_archivo('Articulo.txt')\n",
        "\n",
        "# Iniciar el procesamiento\n",
        "iniciar_procesamiento(codigos)\n"
      ]
    },
    {
      "cell_type": "markdown",
      "source": [
        "# Pegar los códigos:"
      ],
      "metadata": {
        "id": "vQmXOV5yGKdt"
      }
    },
    {
      "cell_type": "code",
      "source": [
        "\n"
      ],
      "metadata": {
        "colab": {
          "base_uri": "https://localhost:8080/",
          "height": 208
        },
        "id": "y3Y3Y3zoGSXx",
        "outputId": "3d1b8b18-9c3b-4530-ae50-9aa9a15ebb1e"
      },
      "execution_count": 4,
      "outputs": [
        {
          "output_type": "stream",
          "name": "stdout",
          "text": [
            "Procesando código 1/10 - Tiempo transcurrido: 0:00:38\n",
            "Procesando código 2/10 - Tiempo transcurrido: 0:00:38\n",
            "Procesando código 3/10 - Tiempo transcurrido: 0:00:38\n",
            "Procesando código 4/10 - Tiempo transcurrido: 0:00:38\n",
            "Procesando código 5/10 - Tiempo transcurrido: 0:00:38\n",
            "Procesando código 6/10 - Tiempo transcurrido: 0:00:38\n",
            "Procesando código 7/10 - Tiempo transcurrido: 0:00:38\n",
            "Procesando código 8/10 - Tiempo transcurrido: 0:00:38\n",
            "Procesando código 9/10 - Tiempo transcurrido: 0:00:39\n",
            "Procesando código 10/10 - Tiempo transcurrido: 0:00:40\n",
            "Archivo 'Control Stock Web 2024-07-09.xlsx' guardado con los estados, precios y cantidad de imágenes de los productos.\n"
          ]
        },
        {
          "output_type": "display_data",
          "data": {
            "text/plain": [
              "<IPython.core.display.Javascript object>"
            ],
            "application/javascript": [
              "\n",
              "    async function download(id, filename, size) {\n",
              "      if (!google.colab.kernel.accessAllowed) {\n",
              "        return;\n",
              "      }\n",
              "      const div = document.createElement('div');\n",
              "      const label = document.createElement('label');\n",
              "      label.textContent = `Downloading \"${filename}\": `;\n",
              "      div.appendChild(label);\n",
              "      const progress = document.createElement('progress');\n",
              "      progress.max = size;\n",
              "      div.appendChild(progress);\n",
              "      document.body.appendChild(div);\n",
              "\n",
              "      const buffers = [];\n",
              "      let downloaded = 0;\n",
              "\n",
              "      const channel = await google.colab.kernel.comms.open(id);\n",
              "      // Send a message to notify the kernel that we're ready.\n",
              "      channel.send({})\n",
              "\n",
              "      for await (const message of channel.messages) {\n",
              "        // Send a message to notify the kernel that we're ready.\n",
              "        channel.send({})\n",
              "        if (message.buffers) {\n",
              "          for (const buffer of message.buffers) {\n",
              "            buffers.push(buffer);\n",
              "            downloaded += buffer.byteLength;\n",
              "            progress.value = downloaded;\n",
              "          }\n",
              "        }\n",
              "      }\n",
              "      const blob = new Blob(buffers, {type: 'application/binary'});\n",
              "      const a = document.createElement('a');\n",
              "      a.href = window.URL.createObjectURL(blob);\n",
              "      a.download = filename;\n",
              "      div.appendChild(a);\n",
              "      a.click();\n",
              "      div.remove();\n",
              "    }\n",
              "  "
            ]
          },
          "metadata": {}
        },
        {
          "output_type": "display_data",
          "data": {
            "text/plain": [
              "<IPython.core.display.Javascript object>"
            ],
            "application/javascript": [
              "download(\"download_bd986b5e-0a88-407b-9eee-eefa98271954\", \"Control Stock Web 2024-07-09.xlsx\", 5383)"
            ]
          },
          "metadata": {}
        }
      ]
    }
  ]
}